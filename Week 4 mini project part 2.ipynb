{
 "cells": [
  {
   "cell_type": "markdown",
   "metadata": {},
   "source": [
    "<font color=\"Green\"><h1> **Week 4 Mini-Project Part 2**</h1></font>"
   ]
  },
  {
   "cell_type": "code",
   "execution_count": 1,
   "metadata": {},
   "outputs": [],
   "source": [
    "#import neccesary libraries and functions\n",
    "\n",
    "import pandas as pd\n",
    "import numpy as np\n",
    "from sklearn.metrics import accuracy_score, confusion_matrix, mean_squared_error\n",
    "from scipy.spatial.distance import cdist\n",
    "from scipy.sparse import coo_matrix\n",
    "from sklearn.decomposition import NMF"
   ]
  },
  {
   "cell_type": "code",
   "execution_count": 2,
   "metadata": {},
   "outputs": [],
   "source": [
    "#Load the data\n",
    "\n",
    "MV_users = pd.read_csv('data/users.csv')\n",
    "MV_movies = pd.read_csv('data/movies.csv')\n",
    "train = pd.read_csv('data/train.csv')\n",
    "test = pd.read_csv('data/test.csv')\n",
    "\n",
    "from collections import namedtuple\n",
    "Data = namedtuple('Data', ['users','movies','train','test'])\n",
    "data = Data(MV_users, MV_movies, train, test)"
   ]
  },
  {
   "cell_type": "code",
   "execution_count": 3,
   "metadata": {},
   "outputs": [],
   "source": [
    "#Borrowed code from the week 3 assignment\n",
    "\n",
    "class rating_matrix_generator():\n",
    "    def __init__(self,data):\n",
    "        self.data=data\n",
    "        self.allusers = list(self.data.users['uID'])\n",
    "        self.allmovies = list(self.data.movies['mID'])\n",
    "        self.genres = list(self.data.movies.columns.drop(['mID', 'title', 'year']))\n",
    "        self.mid2idx = dict(zip(self.data.movies.mID,list(range(len(self.data.movies)))))\n",
    "        self.uid2idx = dict(zip(self.data.users.uID,list(range(len(self.data.users)))))\n",
    "        self.Mr=self.rating_matrix()\n",
    "        \n",
    "    def rating_matrix(self):\n",
    "        \"\"\"\n",
    "        Convert the rating matrix to numpy array of shape (#allusers,#allmovies)\n",
    "        \"\"\"\n",
    "        ind_movie = [self.mid2idx[x] for x in self.data.train.mID] \n",
    "        ind_user = [self.uid2idx[x] for x in self.data.train.uID]\n",
    "        rating_train = list(self.data.train.rating)\n",
    "        \n",
    "        return np.array(coo_matrix((rating_train, (ind_user, ind_movie)), shape=(len(self.allusers), len(self.allmovies))).toarray())\n"
   ]
  },
  {
   "cell_type": "code",
   "execution_count": 4,
   "metadata": {},
   "outputs": [],
   "source": [
    "#generate a rating_matrix_obj object to get the rating matrix\n",
    "\n",
    "rating_matrix_obj = rating_matrix_generator(data)\n",
    "\n",
    "#run our NMF model\n",
    "\n",
    "NMF_model = NMF(n_components = 5, init = 'nndsvd')\n",
    "W = NMF_model.fit_transform(rating_matrix_obj.Mr)\n",
    "H = NMF_model.components_"
   ]
  },
  {
   "cell_type": "code",
   "execution_count": 5,
   "metadata": {},
   "outputs": [
    {
     "name": "stdout",
     "output_type": "stream",
     "text": [
      "[[0.         0.03225928 0.11321427 0.23750959 0.13005165]\n",
      " [0.37912879 0.1596561  0.19872182 0.         0.14686068]\n",
      " [0.0530025  0.01571611 0.07719231 0.08189181 0.21062493]\n",
      " ...\n",
      " [0.         0.04498333 0.0087366  0.03835132 0.06075382]\n",
      " [0.         0.47691515 0.         0.16367524 0.14318159]\n",
      " [0.         1.00416528 0.40369362 0.01390889 0.13276606]]\n",
      "(6040, 5)\n",
      "[[0.         0.81931961 0.38412165 ... 0.04772011 0.         0.11776665]\n",
      " [0.16913315 0.         0.         ... 0.08647346 0.01744    0.11006545]\n",
      " [1.41964834 0.         0.         ... 0.04744123 0.06635167 0.74422576]\n",
      " [2.11188132 0.78037394 0.75868578 ... 0.         0.         0.        ]\n",
      " [1.24972038 0.25353795 0.         ... 0.         0.         0.        ]]\n",
      "(5, 3883)\n"
     ]
    }
   ],
   "source": [
    "#double check and make sure our matrix dimensions are as we expect them to be\n",
    "\n",
    "print(W)\n",
    "print(W.shape)\n",
    "\n",
    "print(H)\n",
    "print(H.shape)"
   ]
  },
  {
   "cell_type": "code",
   "execution_count": 6,
   "metadata": {},
   "outputs": [],
   "source": [
    "#define a function to predict a given user-movie combination based on our decomposed matrices\n",
    "\n",
    "def predict(uID, mID, W, H):\n",
    "    user_index = rating_matrix_obj.uid2idx[uID]\n",
    "    movie_index = rating_matrix_obj.mid2idx[mID]\n",
    "    u = W[user_index]\n",
    "    m = H[:,movie_index] \n",
    "    pred_rating = u.dot(m)\n",
    "    \n",
    "    return pred_rating"
   ]
  },
  {
   "cell_type": "code",
   "execution_count": 7,
   "metadata": {},
   "outputs": [],
   "source": [
    "#run our predictions on the test data\n",
    "\n",
    "y_pred = []\n",
    "for rating in range(len(test)):\n",
    "    y_pred.append(predict(test['uID'][rating], test['mID'][rating], W, H))\n",
    "    "
   ]
  },
  {
   "cell_type": "code",
   "execution_count": 8,
   "metadata": {},
   "outputs": [
    {
     "name": "stdout",
     "output_type": "stream",
     "text": [
      "8.948641757546483\n"
     ]
    }
   ],
   "source": [
    "#use sklearn's RMSE funciton\n",
    "print(mean_squared_error(test['rating'], y_pred, squared = True))"
   ]
  },
  {
   "cell_type": "markdown",
   "metadata": {},
   "source": [
    "<font color=\"Green\"><h1> **Supervised vs. Unsupervised discussion**</h1></font>"
   ]
  },
  {
   "cell_type": "markdown",
   "metadata": {},
   "source": [
    "As evidenced by our RMSE result, the NMF model for predicting user rating on a user-rating matrix does not work out so well. On epossible way to fix the issue would be to use categorical embeddings for our data so that when we run the matrix, similar to how we did in the BBC news article competition."
   ]
  }
 ],
 "metadata": {
  "kernelspec": {
   "display_name": "Python 3",
   "language": "python",
   "name": "python3"
  },
  "language_info": {
   "codemirror_mode": {
    "name": "ipython",
    "version": 3
   },
   "file_extension": ".py",
   "mimetype": "text/x-python",
   "name": "python",
   "nbconvert_exporter": "python",
   "pygments_lexer": "ipython3",
   "version": "3.7.6"
  }
 },
 "nbformat": 4,
 "nbformat_minor": 4
}
